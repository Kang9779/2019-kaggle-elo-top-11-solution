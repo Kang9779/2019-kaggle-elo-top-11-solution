{
 "cells": [
  {
   "cell_type": "code",
   "execution_count": 1,
   "metadata": {},
   "outputs": [],
   "source": [
    "from sklearn.model_selection import KFold,StratifiedKFold,GroupKFold\n",
    "from sklearn.preprocessing import LabelEncoder\n",
    "from tqdm import tqdm_notebook, tnrange\n",
    "import pandas as pd\n",
    "import numpy as np\n",
    "import matplotlib.pyplot as plt\n",
    "import seaborn as sns\n",
    "import warnings\n",
    "import datetime\n",
    "import gc\n",
    "import lightgbm as lgb\n",
    "import os\n",
    "DATA_PATH = './datasets/'\n",
    "warnings.filterwarnings(\"ignore\")\n",
    "%matplotlib inline"
   ]
  },
  {
   "cell_type": "code",
   "execution_count": 14,
   "metadata": {},
   "outputs": [],
   "source": [
    "df_train = pd.read_csv(DATA_PATH+'train.csv')\n",
    "df_test = pd.read_csv(DATA_PATH+'test.csv')"
   ]
  },
  {
   "cell_type": "code",
   "execution_count": 27,
   "metadata": {
    "scrolled": true
   },
   "outputs": [
    {
     "name": "stdout",
     "output_type": "stream",
     "text": [
      "Training until validation scores don't improve for 50 rounds.\n",
      "Did not meet early stopping. Best iteration is:\n",
      "[10]\ttraining's rmse: 3.84866\tvalid_1's rmse: 3.85637\n",
      "Training until validation scores don't improve for 50 rounds.\n",
      "Did not meet early stopping. Best iteration is:\n",
      "[10]\ttraining's rmse: 3.86154\tvalid_1's rmse: 3.8045\n",
      "Training until validation scores don't improve for 50 rounds.\n",
      "Did not meet early stopping. Best iteration is:\n",
      "[10]\ttraining's rmse: 3.85016\tvalid_1's rmse: 3.85032\n",
      "Training until validation scores don't improve for 50 rounds.\n",
      "Did not meet early stopping. Best iteration is:\n",
      "[10]\ttraining's rmse: 3.85262\tvalid_1's rmse: 3.84044\n",
      "Training until validation scores don't improve for 50 rounds.\n",
      "Did not meet early stopping. Best iteration is:\n",
      "[10]\ttraining's rmse: 3.83792\tvalid_1's rmse: 3.89886\n"
     ]
    }
   ],
   "source": [
    "def modelKFoldReg(df_train,df_test,model):\n",
    "    \n",
    "    NFOLDS = 5\n",
    "    kfold = KFold(n_splits=NFOLDS,shuffle=True,random_state=2018)\n",
    "    ntrain = df_train.shape[0]\n",
    "    ntest = df_test.shape[0]\n",
    "\n",
    "#     获取预测叶子节点Index\n",
    "    train_index_features = np.zeros((ntrain,model.n_estimators))\n",
    "    test_index_features = np.zeros((ntest,model.n_estimators))\n",
    "    \n",
    "    for foldIndex,(dev_index,val_index) in enumerate(kfold.split(df_train)):\n",
    "        x_dev = df_train[tr_features].iloc[dev_index]\n",
    "        y_dev = df_train[label].iloc[dev_index]\n",
    "        x_val = df_train[tr_features].iloc[val_index]\n",
    "        y_val = df_train[label].iloc[val_index]\n",
    "        model.fit(x_dev, y_dev,eval_set=[(x_dev,y_dev),(x_val,y_val)],early_stopping_rounds=50,verbose=100)\n",
    "    \n",
    "    train_index_features = model.predict(df_train[tr_features],pred_leaf=True,num_iteration=model.best_iteration_)\n",
    "    test_index_features = model.predict(df_test[tr_features],pred_leaf=True,num_iteration=model.best_iteration_)\n",
    "    \n",
    "    return model,train_index_features,test_index_features\n",
    "\n",
    "label = ['target']\n",
    "dropCols = ['card_id','first_active_month','target','is_outlier']\n",
    "tr_features = [_f for _f in df_train.columns if _f not in dropCols and df_train[_f].dtype!='object']\n",
    "\n",
    "lgb_params={\n",
    "    'learning_rate': 0.01,\n",
    "    'objective':'regression',\n",
    "    'n_estimators':10,\n",
    "    'metric':'rmse',\n",
    "    'num_leaves': 10,\n",
    "    'verbose': 1,\n",
    "    \"random_state\":2018,\n",
    "    'device': 'gpu',\n",
    "    'gpu_platform_id':1,\n",
    "    'gpu_device_id': 1,\n",
    "}\n",
    "lgb_est = lgb.LGBMRegressor(**lgb_params)\n",
    "\n",
    "lgb_est,train_index_features,test_index_features = modelKFoldReg(df_train,df_test,lgb_est)\n"
   ]
  },
  {
   "cell_type": "code",
   "execution_count": 33,
   "metadata": {
    "scrolled": true
   },
   "outputs": [],
   "source": [
    "df_feature_train = pd.DataFrame(data=train_index_features)\n",
    "df_feature_train.columns=['featureIndex_%s'%index for index in range(10)]\n",
    "df_feature_train['card_id'] = df_train.card_id.values\n",
    "df_feature_train.to_csv('./datasets/df_feature_train.csv',index=False)\n",
    "\n",
    "df_feature_test = pd.DataFrame(data=test_index_features)\n",
    "df_feature_test.columns=['featureIndex_%s'%index for index in range(10)]\n",
    "df_feature_test['card_id'] = df_test.card_id.values\n",
    "df_feature_test.to_csv('./datasets/df_feature_test.csv',index=False)"
   ]
  }
 ],
 "metadata": {
  "kernelspec": {
   "display_name": "Python 3",
   "language": "python",
   "name": "python3"
  },
  "language_info": {
   "codemirror_mode": {
    "name": "ipython",
    "version": 3
   },
   "file_extension": ".py",
   "mimetype": "text/x-python",
   "name": "python",
   "nbconvert_exporter": "python",
   "pygments_lexer": "ipython3",
   "version": "3.6.5"
  }
 },
 "nbformat": 4,
 "nbformat_minor": 2
}
