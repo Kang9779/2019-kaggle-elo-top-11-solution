{
 "cells": [
  {
   "cell_type": "code",
   "execution_count": null,
   "metadata": {},
   "outputs": [],
   "source": [
    "from sklearn.model_selection import KFold,StratifiedKFold,GroupKFold\n",
    "from sklearn.model_selection import cross_val_score\n",
    "from sklearn.preprocessing import LabelEncoder\n",
    "from sklearn.ensemble import AdaBoostRegressor,ExtraTreesRegressor,RandomForestRegressor,GradientBoostingRegressor\n",
    "from sklearn.linear_model import BayesianRidge,LinearRegression\n",
    "import pandas as pd\n",
    "import numpy as np\n",
    "import matplotlib.pyplot as plt\n",
    "import warnings\n",
    "import datetime\n",
    "import gc\n",
    "import os\n",
    "DATA_PATH = './datasets/'\n",
    "warnings.filterwarnings(\"ignore\")\n",
    "%matplotlib"
   ]
  },
  {
   "cell_type": "code",
   "execution_count": null,
   "metadata": {},
   "outputs": [],
   "source": [
    "df_data = pd.read_csv(DATA_PATH+'df_data.csv',dtype={'first_active_month':np.str})\n",
    "df_train_test_additional_features = pd.read_csv(DATA_PATH+'df_train_test_features_additional.csv')\n",
    "df_additional_features = pd.read_csv(DATA_PATH+'df_additional_features.csv')\n",
    "\n",
    "df_data = df_data.merge(df_train_test_additional_features,on='card_id',how='left')\n",
    "df_data = df_data.merge(df_additional_features,on='card_id',how='left')\n",
    "\n",
    "path = './datasets/feature2/'\n",
    "sublist = os.listdir(path)\n",
    "for sub in sublist:\n",
    "    df = pd.read_csv(path+sub)\n",
    "    df_data = df_data.merge(df,on='card_id',how='left')\n",
    "\n",
    "df_data.fillna(-999,inplace=True)\n",
    "df_data.replace([np.inf,-1*np.inf],-999,inplace=True)"
   ]
  },
  {
   "cell_type": "code",
   "execution_count": null,
   "metadata": {},
   "outputs": [],
   "source": [
    "df_train = df_data[df_data.is_test==0]\n",
    "df_test = df_data[df_data.is_test==1]\n",
    "df_train['is_outlier'] = (df_train.target<-30).astype(np.int)\n",
    "\n",
    "label = ['target']\n",
    "dropCols = ['card_id','first_active_month','is_outlier','is_test','target','purchase_date','merchant_id']\n",
    "tr_features = [_f for _f in df_train.columns if _f not in dropCols and df_train[_f].dtype!='object']\n",
    "del df_data\n",
    "gc.collect()\n",
    "\n",
    "print(len(tr_features))"
   ]
  },
  {
   "cell_type": "code",
   "execution_count": null,
   "metadata": {},
   "outputs": [],
   "source": [
    "def modelKFoldReg(df_train,df_test,model):\n",
    "    NFOLDS = 5\n",
    "    kfold = StratifiedKFold(n_splits=NFOLDS,shuffle=False,random_state=2018)\n",
    "    ntrain = df_train.shape[0]\n",
    "    ntest = df_test.shape[0]\n",
    "    oof_train_pred = np.zeros((ntrain,))\n",
    "    oof_test_pred = np.zeros((ntest,))\n",
    "    oof_test_pred_skf = np.empty((NFOLDS, ntest))\n",
    "    for foldIndex,(dev_index,val_index) in enumerate(kfold.split(df_train,df_train['is_outlier'])):\n",
    "        print(\"............第%s折...........\"%(foldIndex+1))\n",
    "        x_dev = df_train[tr_features].iloc[dev_index].values\n",
    "        y_dev = df_train[label].iloc[dev_index].values\n",
    "        x_val = df_train[tr_features].iloc[val_index].values\n",
    "        y_val = df_train[label].iloc[val_index].values\n",
    "        model.fit(x_dev, y_dev)\n",
    "        oof_test_pred_skf[foldIndex,:] = model.predict(df_test[tr_features].values).reshape(-1,)\n",
    "        oof_train_pred[val_index] = model.predict(x_val).reshape(-1,)\n",
    "    oof_test_pred[:] = oof_test_pred_skf.mean(axis=0)\n",
    "        \n",
    "    score = np.sqrt((np.sum(np.square(oof_train_pred - df_train[label].values.reshape(-1,)))/ntrain))\n",
    "    return model,score,oof_test_pred,oof_train_pred\n",
    "\n",
    "ada_params = {\n",
    "#     'base_estimator':\n",
    "    'n_estimators':1000,\n",
    "    'learning_rate':0.01,\n",
    "    'loss':'square',\n",
    "    'random_state':42\n",
    "}\n",
    "model = AdaBoostRegressor(**ada_params)\n",
    "model,score,oof_test_pred,oof_train_pred = modelKFoldReg(df_train,df_test,model)\n",
    "\n",
    "print(\"score = %s\"%score)"
   ]
  },
  {
   "cell_type": "code",
   "execution_count": null,
   "metadata": {},
   "outputs": [],
   "source": [
    "df_train['oof_rf_pred_%.5f'%score] = oof_train_pred\n",
    "df_test['oof_rf_pred_%.5f'%score] = oof_test_pred\n",
    "df_train[['card_id','oof_rf_pred_%.5f'%score]].to_csv('./datasets/stacking/h2orf_train_pred_%.5f.csv'%score)\n",
    "df_test[['card_id','oof_rf_pred_%.5f'%score]].to_csv('./datasets/stacking/h2orf_test_pred_%.5f.csv'%score)"
   ]
  }
 ],
 "metadata": {
  "kernelspec": {
   "display_name": "Python 3",
   "language": "python",
   "name": "python3"
  },
  "language_info": {
   "codemirror_mode": {
    "name": "ipython",
    "version": 3
   },
   "file_extension": ".py",
   "mimetype": "text/x-python",
   "name": "python",
   "nbconvert_exporter": "python",
   "pygments_lexer": "ipython3",
   "version": "3.6.5"
  }
 },
 "nbformat": 4,
 "nbformat_minor": 2
}
