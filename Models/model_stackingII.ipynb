{
 "cells": [
  {
   "cell_type": "code",
   "execution_count": 15,
   "metadata": {},
   "outputs": [],
   "source": [
    "from sklearn.model_selection import KFold,StratifiedKFold,GroupKFold\n",
    "from sklearn.preprocessing import LabelEncoder\n",
    "from tqdm import tqdm_notebook, tnrange\n",
    "from sklearn.metrics import mean_squared_error\n",
    "from sklearn.linear_model import BayesianRidge,LinearRegression\n",
    "import pandas as pd\n",
    "import numpy as np\n",
    "import matplotlib.pyplot as plt\n",
    "import seaborn as sns\n",
    "import warnings\n",
    "import datetime\n",
    "import gc\n",
    "import lightgbm as lgb\n",
    "import xgboost as xgb\n",
    "import catboost as catb\n",
    "import os\n",
    "warnings.filterwarnings(\"ignore\")\n",
    "%matplotlib inline"
   ]
  },
  {
   "cell_type": "markdown",
   "metadata": {},
   "source": [
    "### Stacking Level I"
   ]
  },
  {
   "cell_type": "code",
   "execution_count": 20,
   "metadata": {},
   "outputs": [
    {
     "data": {
      "text/plain": [
       "((201917, 54), (123623, 53))"
      ]
     },
     "execution_count": 20,
     "metadata": {},
     "output_type": "execute_result"
    }
   ],
   "source": [
    "##### just stacking\n",
    "df_stacking_train = pd.read_csv('./datasets/stacking/level1/df_stacking_train.csv')\n",
    "df_stacking_test = pd.read_csv('./datasets/stacking/level1/df_stacking_test.csv')\n",
    "\n",
    "path = './datasets/stacking/level1/'\n",
    "sublist = os.listdir(path)\n",
    "sublist.remove('df_stacking_test.csv')\n",
    "sublist.remove('df_stacking_train.csv')\n",
    "\n",
    "for sub in sublist:\n",
    "    df = pd.read_csv(path+sub)\n",
    "    if 'train' in sub:\n",
    "        df_stacking_train = df_stacking_train.merge(df,on='card_id',how='left')\n",
    "    else:\n",
    "        df_stacking_test = df_stacking_test.merge(df,on='card_id',how='left')\n",
    "\n",
    "df_stacking_train.shape,df_stacking_test.shape"
   ]
  },
  {
   "cell_type": "markdown",
   "metadata": {},
   "source": [
    "#### BayesianRidge"
   ]
  },
  {
   "cell_type": "code",
   "execution_count": 25,
   "metadata": {
    "scrolled": true
   },
   "outputs": [
    {
     "name": "stdout",
     "output_type": "stream",
     "text": [
      "score = 3.630509504160885\n"
     ]
    }
   ],
   "source": [
    "NFOLDS = 5\n",
    "# kfold = KFold(n_splits=NFOLDS,shuffle=False,random_state=5)\n",
    "kfold = StratifiedKFold(n_splits=NFOLDS,shuffle=False,random_state=20)\n",
    "df_stacking_train['is_outlier'] = (df_stacking_train.target<-30).astype(np.int)\n",
    "label = ['target']\n",
    "tr_features = [_f for _f in df_stacking_train.columns if _f not in ['card_id','target','is_outlier']]\n",
    "\n",
    "ntrain = df_stacking_train.shape[0]\n",
    "ntest = df_stacking_test.shape[0]\n",
    "oof_train_pred = np.zeros((ntrain,))\n",
    "oof_test_pred = np.zeros((ntest,))\n",
    "oof_test_pred_skf = np.empty((NFOLDS, ntest))\n",
    "for foldIndex,(dev_index,val_index) in enumerate(kfold.split(df_stacking_train,df_stacking_train['is_outlier'])):\n",
    "    model = BayesianRidge(\n",
    "        lambda_1=50,\n",
    "        lambda_2=0.1,\n",
    "        normalize=True,\n",
    "        tol=0.00001,\n",
    "    )\n",
    "    x_dev = df_stacking_train[tr_features].iloc[dev_index]\n",
    "    y_dev = df_stacking_train[label].iloc[dev_index]\n",
    "    x_val = df_stacking_train[tr_features].iloc[val_index]\n",
    "    y_val = df_stacking_train[label].iloc[val_index]\n",
    "    model.fit(x_dev.values,y_dev.values)\n",
    "    oof_test_pred_skf[foldIndex,:] = model.predict(df_stacking_test[tr_features].values).reshape(-1,)\n",
    "    oof_train_pred[val_index] = model.predict(x_val.values).reshape(-1,)\n",
    "\n",
    "oof_test_pred[:] = oof_test_pred_skf.mean(axis=0)\n",
    "score = np.sqrt((np.sum(np.square(oof_train_pred - df_stacking_train[label].values.reshape(-1,)))/ntrain))\n",
    "\n",
    "df_sub = pd.DataFrame(data=df_stacking_test['card_id'].values,columns=['card_id'])\n",
    "df_sub['target'] = oof_test_pred\n",
    "print(\"score = %s\"%score)"
   ]
  },
  {
   "cell_type": "code",
   "execution_count": null,
   "metadata": {},
   "outputs": [],
   "source": [
    "df_stacking_train['stack_bayes_pred_%.5f'%score] = oof_train_pred\n",
    "df_stacking_test['stack_bayes_pred_%.5f'%score] = oof_test_pred\n",
    "df_stacking_train[['card_id','stack_bayes_pred_%.5f'%score]].to_csv('./datasets/stacking/level2/df_stack_bayes_train_pred_%.5f.csv'%score,index=False)\n",
    "df_stacking_test[['card_id','stack_bayes_pred_%.5f'%score]].to_csv('./datasets/stacking/level2/df_stack_bayes_test_pred_%.5f.csv'%score,index=False)\n",
    "\n",
    "df_stacking_train.drop(columns=['stack_bayes_pred_%.5f'%score],inplace=True)\n",
    "df_stacking_test.drop(columns=['stack_bayes_pred_%.5f'%score],inplace=True)"
   ]
  },
  {
   "cell_type": "code",
   "execution_count": null,
   "metadata": {},
   "outputs": [],
   "source": [
    "df_sub.to_csv('./submission/df_stackingII_sub_%.5f.csv'%score,index=False)"
   ]
  },
  {
   "cell_type": "markdown",
   "metadata": {},
   "source": [
    "#### LinearRegression"
   ]
  },
  {
   "cell_type": "code",
   "execution_count": null,
   "metadata": {},
   "outputs": [],
   "source": [
    "NFOLDS = 5\n",
    "# kfold = KFold(n_splits=NFOLDS,shuffle=False,random_state=5)\n",
    "kfold = StratifiedKFold(n_splits=NFOLDS,shuffle=False,random_state=20)\n",
    "df_stacking_train['is_outlier'] = (df_stacking_train.target<-30).astype(np.int)\n",
    "label = ['target']\n",
    "tr_features = [_f for _f in df_stacking_train.columns if _f not in ['card_id','target','is_outlier']]\n",
    "\n",
    "ntrain = df_stacking_train.shape[0]\n",
    "ntest = df_stacking_test.shape[0]\n",
    "oof_train_pred = np.zeros((ntrain,))\n",
    "oof_test_pred = np.zeros((ntest,))\n",
    "oof_test_pred_skf = np.empty((NFOLDS, ntest))\n",
    "for foldIndex,(dev_index,val_index) in enumerate(kfold.split(df_stacking_train,df_stacking_train['is_outlier'])):\n",
    "    model = LinearRegression(normalize=True)\n",
    "    x_dev = df_stacking_train[tr_features].iloc[dev_index]\n",
    "    y_dev = df_stacking_train[label].iloc[dev_index]\n",
    "    x_val = df_stacking_train[tr_features].iloc[val_index]\n",
    "    y_val = df_stacking_train[label].iloc[val_index]\n",
    "    model.fit(x_dev.values,y_dev.values)\n",
    "    oof_test_pred_skf[foldIndex,:] = model.predict(df_stacking_test[tr_features].values).reshape(-1,)\n",
    "    oof_train_pred[val_index] = model.predict(x_val.values).reshape(-1,)\n",
    "oof_test_pred[:] = oof_test_pred_skf.mean(axis=0)\n",
    "score = np.sqrt((np.sum(np.square(oof_train_pred - df_stacking_train[label].values.reshape(-1,)))/ntrain))\n",
    "\n",
    "df_sub = pd.DataFrame(data=df_stacking_test['card_id'].values,columns=['card_id'])\n",
    "df_sub['target'] = oof_test_pred\n",
    "print(\"score = %s\"%score)"
   ]
  },
  {
   "cell_type": "code",
   "execution_count": null,
   "metadata": {},
   "outputs": [],
   "source": [
    "df_stacking_train['stack_lr_pred_%.5f'%score] = oof_train_pred\n",
    "df_stacking_test['stack_lr_pred_%.5f'%score] = oof_test_pred\n",
    "df_stacking_train[['card_id','stack_lr_pred_%.5f'%score]].to_csv('./datasets/stacking/level2/df_stack_lr_train_pred_%.5f.csv'%score,index=False)\n",
    "df_stacking_test[['card_id','stack_lr_pred_%.5f'%score]].to_csv('./datasets/stacking/level2/df_stack_lr_test_pred_%.5f.csv'%score,index=False)\n",
    "\n",
    "df_stacking_train.drop(columns=['stack_lr_pred_%.5f'%score],inplace=True)\n",
    "df_stacking_test.drop(columns=['stack_lr_pred_%.5f'%score],inplace=True)"
   ]
  },
  {
   "cell_type": "markdown",
   "metadata": {},
   "source": [
    "#### SVR"
   ]
  },
  {
   "cell_type": "code",
   "execution_count": null,
   "metadata": {},
   "outputs": [],
   "source": [
    "from sklearn.svm import SVR\n",
    "def modelKFoldReg(df_train,df_test,model):\n",
    "    NFOLDS = 5\n",
    "    kfold = StratifiedKFold(n_splits=NFOLDS,shuffle=False,random_state=2018)\n",
    "    ntrain = df_train.shape[0]\n",
    "    ntest = df_test.shape[0]\n",
    "    oof_train_pred = np.zeros((ntrain,))\n",
    "    oof_test_pred = np.zeros((ntest,))\n",
    "    oof_test_pred_skf = np.empty((NFOLDS, ntest))\n",
    "    for foldIndex,(dev_index,val_index) in enumerate(kfold.split(df_train,df_train['is_outlier'])):\n",
    "        print(\"............第%s折...........\"%(foldIndex+1))\n",
    "        x_dev = df_train[tr_features].iloc[dev_index].values\n",
    "        y_dev = df_train[label].iloc[dev_index].values\n",
    "        x_val = df_train[tr_features].iloc[val_index].values\n",
    "        y_val = df_train[label].iloc[val_index].values\n",
    "        model.fit(x_dev, y_dev)\n",
    "        oof_test_pred_skf[foldIndex,:] = model.predict(df_test[tr_features].values).reshape(-1,)\n",
    "        oof_train_pred[val_index] = model.predict(x_val).reshape(-1,)\n",
    "    oof_test_pred[:] = oof_test_pred_skf.mean(axis=0)\n",
    "        \n",
    "    score = np.sqrt((np.sum(np.square(oof_train_pred - df_train[label].values.reshape(-1,)))/ntrain))\n",
    "    return score,oof_test_pred,oof_train_pred\n",
    "\n",
    "svr_params = {\n",
    "   'gamma':0.1,\n",
    "    'C':1.0,\n",
    "    'epsilon':0.2    \n",
    "}\n",
    "df_stacking_train['is_outlier'] = (df_stacking_train.target<-30).astype(np.int)\n",
    "label = ['target']\n",
    "tr_features = [_f for _f in df_stacking_train.columns if _f not in ['card_id','target','is_outlier']]\n",
    "model = SVR(**svr_params)\n",
    "score,oof_test_pred,oof_train_pred = modelKFoldReg(df_stacking_train,df_stacking_test,model)\n",
    "\n",
    "df_sub = pd.DataFrame(data=df_stacking_test['card_id'].values,columns=['card_id'])\n",
    "df_sub['target'] = oof_test_pred\n",
    "print(\"score = %s\"%score)"
   ]
  },
  {
   "cell_type": "code",
   "execution_count": null,
   "metadata": {},
   "outputs": [],
   "source": [
    "df_stacking_train['stack_svr_pred_%.5f'%score] = oof_train_pred\n",
    "df_stacking_test['stack_svr_pred_%.5f'%score] = oof_test_pred\n",
    "df_stacking_train[['card_id','stack_svr_pred_%.5f'%score]].to_csv('./datasets/stacking/level2/df_stack_svr_train_pred_%.5f.csv'%score,index=False)\n",
    "df_stacking_test[['card_id','stack_svr_pred_%.5f'%score]].to_csv('./datasets/stacking/level2/df_stack_svr_test_pred_%.5f.csv'%score,index=False)\n",
    "\n",
    "df_stacking_train.drop(columns=['stack_svr_pred_%.5f'%score],inplace=True)\n",
    "df_stacking_test.drop(columns=['stack_svr_pred_%.5f'%score],inplace=True)"
   ]
  },
  {
   "cell_type": "markdown",
   "metadata": {},
   "source": [
    "#### LGBMRegressor"
   ]
  },
  {
   "cell_type": "code",
   "execution_count": null,
   "metadata": {
    "scrolled": true
   },
   "outputs": [],
   "source": [
    "def modelKFoldReg(df_train,df_test,model):\n",
    "    \n",
    "    NFOLDS = 5\n",
    "    kfold = StratifiedKFold(n_splits=NFOLDS,shuffle=False,random_state=20)\n",
    "    ntrain = df_train.shape[0]\n",
    "    ntest = df_test.shape[0]\n",
    "    oof_train_pred = np.zeros((ntrain,))\n",
    "    oof_test_pred = np.zeros((ntest,))\n",
    "    oof_test_pred_skf = np.empty((NFOLDS, ntest))\n",
    "    for foldIndex,(dev_index,val_index) in enumerate(kfold.split(df_train,df_train['is_outlier'])):\n",
    "        print(\"...........第%s折.............\"%(foldIndex+1))\n",
    "        x_dev = df_train[tr_features].iloc[dev_index]\n",
    "        y_dev = df_train[label].iloc[dev_index]\n",
    "        x_val = df_train[tr_features].iloc[val_index]\n",
    "        y_val = df_train[label].iloc[val_index]\n",
    "        model.fit(x_dev, y_dev,eval_set=[(x_dev,y_dev),(x_val,y_val)],early_stopping_rounds=10,verbose=10)\n",
    "        oof_test_pred_skf[foldIndex,:] = model.predict(df_test[tr_features],num_iteration=model.best_iteration_)\n",
    "        oof_train_pred[val_index] = model.predict(x_val,num_iteration=model.best_iteration_)\n",
    "    oof_test_pred[:] = oof_test_pred_skf.mean(axis=0)\n",
    "    score = np.sqrt((np.sum(np.square(oof_train_pred - df_train[label].values.reshape(-1,)))/ntrain))\n",
    "    return score,oof_test_pred,oof_train_pred\n",
    "\n",
    "lgb_params ={\n",
    "    'objective': 'regression',\n",
    "    'metric': 'rmse',\n",
    "    'n_estimators':500,\n",
    "    'learning_rate': 0.05,\n",
    "    'subsample': 0.9,\n",
    "    'max_depth': 3,\n",
    "    'min_child_weight': 45,\n",
    "    'reg_alpha': 100,\n",
    "    'colsample_bytree': 0.8,\n",
    "    'min_split_gain': 10,\n",
    "    'reg_lambda': 100,\n",
    "    'min_data_in_leaf': 21,\n",
    "    'verbose': -1,\n",
    "    'seed':20,\n",
    "    'bagging_seed':42,\n",
    "    'device': 'gpu',\n",
    "    'gpu_platform_id':1,\n",
    "    'gpu_device_id': 1,\n",
    "}\n",
    "df_stacking_train['is_outlier'] = (df_stacking_train.target<-30).astype(np.int)\n",
    "label = ['target']\n",
    "tr_features = [_f for _f in df_stacking_train.columns if _f not in ['card_id','target','is_outlier']]\n",
    "\n",
    "lgb_est = lgb.LGBMRegressor(**lgb_params)\n",
    "score,oof_test_pred,oof_train_pred = modelKFoldReg(df_stacking_train,df_stacking_test,lgb_est)\n",
    "print(\"score = %s\"%score)"
   ]
  },
  {
   "cell_type": "code",
   "execution_count": null,
   "metadata": {},
   "outputs": [],
   "source": [
    "df_stacking_train['stack_lgb_pred_%.5f'%score] = oof_train_pred\n",
    "df_stacking_test['stack_lgb_pred_%.5f'%score] = oof_test_pred\n",
    "df_stacking_train[['card_id','stack_lgb_pred_%.5f'%score]].to_csv('./datasets/stacking/level2/df_stack_lgb_train_pred_%.5f.csv'%score,index=False)\n",
    "df_stacking_test[['card_id','stack_lgb_pred_%.5f'%score]].to_csv('./datasets/stacking/level2/df_stack_lgb_test_pred_%.5f.csv'%score,index=False)\n",
    "\n",
    "df_stacking_train.drop(columns=['stack_lgb_pred_%.5f'%score],inplace=True)\n",
    "df_stacking_test.drop(columns=['stack_lgb_pred_%.5f'%score],inplace=True)"
   ]
  },
  {
   "cell_type": "markdown",
   "metadata": {},
   "source": [
    "#### Random Forest"
   ]
  },
  {
   "cell_type": "code",
   "execution_count": null,
   "metadata": {
    "scrolled": true
   },
   "outputs": [],
   "source": [
    "from sklearn.ensemble import RandomForestRegressor\n",
    "def modelKFoldReg(df_train,df_test,model):\n",
    "    NFOLDS = 5\n",
    "    kfold = StratifiedKFold(n_splits=NFOLDS,shuffle=False,random_state=2018)\n",
    "    ntrain = df_train.shape[0]\n",
    "    ntest = df_test.shape[0]\n",
    "    oof_train_pred = np.zeros((ntrain,))\n",
    "    oof_test_pred = np.zeros((ntest,))\n",
    "    oof_test_pred_skf = np.empty((NFOLDS, ntest))\n",
    "    for foldIndex,(dev_index,val_index) in enumerate(kfold.split(df_train,df_train['is_outlier'])):\n",
    "        print(\"............第%s折...........\"%(foldIndex+1))\n",
    "        x_dev = df_train[tr_features].iloc[dev_index].values\n",
    "        y_dev = df_train[label].iloc[dev_index].values\n",
    "        x_val = df_train[tr_features].iloc[val_index].values\n",
    "        y_val = df_train[label].iloc[val_index].values\n",
    "        model.fit(x_dev, y_dev)\n",
    "        oof_test_pred_skf[foldIndex,:] = model.predict(df_test[tr_features].values).reshape(-1,)\n",
    "        oof_train_pred[val_index] = model.predict(x_val).reshape(-1,)\n",
    "        \n",
    "    oof_test_pred[:] = oof_test_pred_skf.mean(axis=0)\n",
    "    score = np.sqrt((np.sum(np.square(oof_train_pred - df_train[label].values.reshape(-1,)))/ntrain))\n",
    "    return score,oof_test_pred,oof_train_pred\n",
    "\n",
    "rf_params = {\n",
    "    'n_estimators':800,\n",
    "    'max_depth':6,\n",
    "    'criterion':'mse',\n",
    "    'bootstrap':True,\n",
    "    'verbose':1,\n",
    "    'n_jobs':6,\n",
    "    'random_state':45\n",
    "}\n",
    "df_stacking_train['is_outlier'] = (df_stacking_train.target<-30).astype(np.int)\n",
    "label = ['target']\n",
    "tr_features = [_f for _f in df_stacking_train.columns if _f not in ['card_id','target','is_outlier']]\n",
    "model = RandomForestRegressor(**rf_params)\n",
    "score,oof_test_pred,oof_train_pred = modelKFoldReg(df_stacking_train,df_stacking_test,model)\n",
    "\n",
    "print(\"score = %s\"%score)"
   ]
  },
  {
   "cell_type": "code",
   "execution_count": null,
   "metadata": {},
   "outputs": [],
   "source": [
    "df_stacking_train['stack_rf_pred_%.5f'%score] = oof_train_pred\n",
    "df_stacking_test['stack_rf_pred_%.5f'%score] = oof_test_pred\n",
    "df_stacking_train[['card_id','stack_rf_pred_%.5f'%score]].to_csv('./datasets/stacking/level2/df_stack_rf_train_pred_%.5f.csv'%score,index=False)\n",
    "df_stacking_test[['card_id','stack_rf_pred_%.5f'%score]].to_csv('./datasets/stacking/level2/df_stack_rf_test_pred_%.5f.csv'%score,index=False)\n",
    "\n",
    "df_stacking_train.drop(columns=['stack_rf_pred_%.5f'%score],inplace=True)\n",
    "df_stacking_test.drop(columns=['stack_rf_pred_%.5f'%score],inplace=True)"
   ]
  },
  {
   "cell_type": "markdown",
   "metadata": {},
   "source": [
    "#### XGBRegressor"
   ]
  },
  {
   "cell_type": "code",
   "execution_count": null,
   "metadata": {
    "scrolled": true
   },
   "outputs": [],
   "source": [
    "def modelKFoldReg(df_train,df_test,model):\n",
    "    \n",
    "    NFOLDS = 5\n",
    "    kfold = StratifiedKFold(n_splits=NFOLDS,shuffle=False,random_state=50)\n",
    "\n",
    "    ntrain = df_train.shape[0]\n",
    "    ntest = df_test.shape[0]\n",
    "    oof_train_pred = np.zeros((ntrain,))\n",
    "    oof_test_pred = np.zeros((ntest,))\n",
    "    oof_test_pred_skf = np.empty((NFOLDS, ntest))\n",
    "    for foldIndex,(dev_index,val_index) in enumerate(kfold.split(df_train,df_train['is_outlier'])):\n",
    "        print('..............第%s折............'%(foldIndex+1))\n",
    "        x_dev = df_train[tr_features].iloc[dev_index]\n",
    "        y_dev = df_train[label].iloc[dev_index]\n",
    "        x_val = df_train[tr_features].iloc[val_index]\n",
    "        y_val = df_train[label].iloc[val_index]\n",
    "        model.fit(x_dev, y_dev,eval_set=[(x_dev,y_dev),(x_val,y_val)],early_stopping_rounds=50,verbose=100)\n",
    "        oof_test_pred_skf[foldIndex,:] = model.predict(df_test[tr_features],ntree_limit=model.best_ntree_limit)\n",
    "        oof_train_pred[val_index] = model.predict(x_val)\n",
    "    oof_test_pred[:] = oof_test_pred_skf.mean(axis=0)\n",
    "    score = np.sqrt((np.sum(np.square(oof_train_pred - df_train[label].values.reshape(-1,)))/ntrain))\n",
    "    return score,oof_test_pred,oof_train_pred\n",
    "    \n",
    "xgb_params = {\n",
    "    'objective': 'reg:linear',\n",
    "    'booster': 'gbtree',\n",
    "    'learning_rate': 0.01,\n",
    "    'n_estimators':500,\n",
    "    'max_depth': 4,\n",
    "    'gamma' : 1.45,\n",
    "    'alpha': 0.1,\n",
    "    'lambda': 25,\n",
    "    'subsample': 0.9,\n",
    "    'colsample_bytree': 0.054,\n",
    "    'colsample_bylevel': 0.50,\n",
    "    'random_state': 2018\n",
    "}\n",
    "\n",
    "df_stacking_train['is_outlier'] = (df_stacking_train.target<-30).astype(np.int)\n",
    "label = ['target']\n",
    "tr_features = [_f for _f in df_stacking_train.columns if _f not in ['card_id','target','is_outlier']]\n",
    "\n",
    "xgb_est = xgb.XGBRegressor(**xgb_params)\n",
    "score,xgb_test_pred,xgb_train_pred = modelKFoldReg(df_stacking_train,df_stacking_test,xgb_est)\n",
    "print(\"score = %s\"%score)"
   ]
  },
  {
   "cell_type": "code",
   "execution_count": null,
   "metadata": {},
   "outputs": [],
   "source": [
    "df_stacking_train['stack_xgb_pred_%.5f'%score] = oof_train_pred\n",
    "df_stacking_test['stack_xgb_pred_%.5f'%score] = oof_test_pred\n",
    "df_stacking_train[['card_id','stack_xgb_pred_%.5f'%score]].to_csv('./datasets/stacking/level2/df_stack_xgb_train_pred_%.5f.csv'%score,index=False)\n",
    "df_stacking_test[['card_id','stack_xgb_pred_%.5f'%score]].to_csv('./datasets/stacking/level2/df_stack_xgb_test_pred_%.5f.csv'%score,index=False)\n",
    "\n",
    "df_stacking_train.drop(columns=['stack_xgb_pred_%.5f'%score],inplace=True)\n",
    "df_stacking_test.drop(columns=['stack_xgb_pred_%.5f'%score],inplace=True)"
   ]
  },
  {
   "cell_type": "markdown",
   "metadata": {},
   "source": [
    "#### CatBoostRegressor"
   ]
  },
  {
   "cell_type": "code",
   "execution_count": null,
   "metadata": {
    "scrolled": true
   },
   "outputs": [],
   "source": [
    "def modelKFoldReg(df_train,df_test,model):\n",
    "    \n",
    "    NFOLDS = 5\n",
    "    kfold = StratifiedKFold(n_splits=NFOLDS,shuffle=False,random_state=20)\n",
    "\n",
    "    ntrain = df_train.shape[0]\n",
    "    ntest = df_test.shape[0]\n",
    "    oof_train_pred = np.zeros((ntrain,))\n",
    "    oof_test_pred = np.zeros((ntest,))\n",
    "    oof_test_pred_skf = np.empty((NFOLDS, ntest))\n",
    "    for foldIndex,(dev_index,val_index) in enumerate(kfold.split(df_train,df_train['is_outlier'])):\n",
    "        print('..............第%s折............'%(foldIndex+1))\n",
    "        x_dev = df_train[tr_features].iloc[dev_index]\n",
    "        y_dev = df_train[label].iloc[dev_index]\n",
    "        x_val = df_train[tr_features].iloc[val_index]\n",
    "        y_val = df_train[label].iloc[val_index]\n",
    "        model.fit(x_dev, y_dev,eval_set=[(x_dev,y_dev),(x_val,y_val)],use_best_model=True,early_stopping_rounds=30,verbose=100)\n",
    "        oof_test_pred_skf[foldIndex,:] = model.predict(df_test[tr_features])\n",
    "        oof_train_pred[val_index] = model.predict(x_val)\n",
    "    oof_test_pred[:] = oof_test_pred_skf.mean(axis=0)\n",
    "    score = np.sqrt((np.sum(np.square(oof_train_pred - df_train[label].values.reshape(-1,)))/ntrain))\n",
    "    return score,oof_test_pred,oof_train_pred\n",
    "\n",
    "cat_params = {\n",
    "    'n_estimators':500,\n",
    "    'learning_rate':0.01,\n",
    "    'max_depth':4,\n",
    "    'loss_function':'RMSE',\n",
    "    'eval_metric':'RMSE',\n",
    "    'logging_level':'Verbose',\n",
    "    'random_state':2018,\n",
    "    'bagging_temperature':0.8,\n",
    "    'l2_leaf_reg':200,\n",
    "    'od_type':'Iter',\n",
    "    'thread_count':16\n",
    "}\n",
    "df_stacking_train['is_outlier'] = (df_stacking_train.target<-30).astype(np.int)\n",
    "label = ['target']\n",
    "tr_features = [_f for _f in df_stacking_train.columns if _f not in ['card_id','target','is_outlier']]\n",
    "\n",
    "cat_est = catb.CatBoostRegressor(**cat_params)\n",
    "score,cat_test_pred,cat_train_pred = modelKFoldReg(df_stacking_train,df_stacking_test,cat_est)\n",
    "print(\"score = %s\"%score)"
   ]
  },
  {
   "cell_type": "code",
   "execution_count": null,
   "metadata": {},
   "outputs": [],
   "source": [
    "df_stacking_train['stack_cat_pred_%.5f'%score] = oof_train_pred\n",
    "df_stacking_test['stack_cat_pred_%.5f'%score] = oof_test_pred\n",
    "df_stacking_train[['card_id','stack_cat_pred_%.5f'%score]].to_csv('./datasets/stacking/level2/df_stack_cat_train_pred_%.5f.csv'%score,index=False)\n",
    "df_stacking_test[['card_id','stack_cat_pred_%.5f'%score]].to_csv('./datasets/stacking/level2/df_stack_cat_test_pred_%.5f.csv'%score,index=False)\n",
    "\n",
    "df_stacking_train.drop(columns=['stack_cat_pred_%.5f'%score],inplace=True)\n",
    "df_stacking_test.drop(columns=['stack_cat_pred_%.5f'%score],inplace=True)"
   ]
  },
  {
   "cell_type": "markdown",
   "metadata": {},
   "source": [
    "#### ExtraTreesRegressor"
   ]
  },
  {
   "cell_type": "code",
   "execution_count": null,
   "metadata": {
    "scrolled": true
   },
   "outputs": [],
   "source": [
    "from sklearn.ensemble import ExtraTreesRegressor\n",
    "def modelKFoldReg(df_train,df_test,model):\n",
    "    NFOLDS = 5\n",
    "    kfold = StratifiedKFold(n_splits=NFOLDS,shuffle=False,random_state=2018)\n",
    "    ntrain = df_train.shape[0]\n",
    "    ntest = df_test.shape[0]\n",
    "    oof_train_pred = np.zeros((ntrain,))\n",
    "    oof_test_pred = np.zeros((ntest,))\n",
    "    oof_test_pred_skf = np.empty((NFOLDS, ntest))\n",
    "    for foldIndex,(dev_index,val_index) in enumerate(kfold.split(df_train,df_train['is_outlier'])):\n",
    "        print(\"............第%s折...........\"%(foldIndex+1))\n",
    "        x_dev = df_train[tr_features].iloc[dev_index].values\n",
    "        y_dev = df_train[label].iloc[dev_index].values\n",
    "        x_val = df_train[tr_features].iloc[val_index].values\n",
    "        y_val = df_train[label].iloc[val_index].values\n",
    "        model.fit(x_dev, y_dev)\n",
    "        oof_test_pred_skf[foldIndex,:] = model.predict(df_test[tr_features].values).reshape(-1,)\n",
    "        oof_train_pred[val_index] = model.predict(x_val).reshape(-1,)\n",
    "    oof_test_pred[:] = oof_test_pred_skf.mean(axis=0)\n",
    "        \n",
    "    score = np.sqrt((np.sum(np.square(oof_train_pred - df_train[label].values.reshape(-1,)))/ntrain))\n",
    "    return score,oof_test_pred,oof_train_pred\n",
    "\n",
    "extr_params = {\n",
    "    'n_estimators':800,\n",
    "    'max_depth':5,\n",
    "    'criterion':'mse',\n",
    "    'bootstrap':True,\n",
    "    'verbose':1,\n",
    "    'n_jobs':6,\n",
    "    'random_state':34\n",
    "}\n",
    "df_stacking_train['is_outlier'] = (df_stacking_train.target<-30).astype(np.int)\n",
    "label = ['target']\n",
    "tr_features = [_f for _f in df_stacking_train.columns if _f not in ['card_id','target','is_outlier']]\n",
    "model = ExtraTreesRegressor(**extr_params)\n",
    "score,oof_test_pred,oof_train_pred = modelKFoldReg(df_stacking_train,df_stacking_test,model)\n",
    "\n",
    "print(\"score = %s\"%score)"
   ]
  },
  {
   "cell_type": "code",
   "execution_count": null,
   "metadata": {
    "scrolled": true
   },
   "outputs": [],
   "source": [
    "df_stacking_train['stack_extr_pred_%.5f'%score] = oof_train_pred\n",
    "df_stacking_test['stack_extr_pred_%.5f'%score] = oof_test_pred\n",
    "df_stacking_train[['card_id','stack_extr_pred_%.5f'%score]].to_csv('./datasets/stacking/level2/df_stack_extr_train_pred_%.5f.csv'%score,index=False)\n",
    "df_stacking_test[['card_id','stack_extr_pred_%.5f'%score]].to_csv('./datasets/stacking/level2/df_stack_extr_test_pred_%.5f.csv'%score,index=False)\n",
    "\n",
    "df_stacking_train.drop(columns=['stack_extr_pred_%.5f'%score],inplace=True)\n",
    "df_stacking_test.drop(columns=['stack_extr_pred_%.5f'%score],inplace=True)"
   ]
  },
  {
   "cell_type": "markdown",
   "metadata": {},
   "source": [
    "### Stacking Level II"
   ]
  },
  {
   "cell_type": "code",
   "execution_count": null,
   "metadata": {},
   "outputs": [],
   "source": [
    "df_stacking_train = pd.read_csv('./datasets/stacking/level2/df_stacking_train.csv')\n",
    "df_stacking_test = pd.read_csv('./datasets/stacking/level2/df_stacking_test.csv')\n",
    "\n",
    "path = './datasets/stacking/level2/'\n",
    "sublist = os.listdir(path)\n",
    "sublist.remove('df_stacking_test.csv')\n",
    "sublist.remove('df_stacking_train.csv')\n",
    "\n",
    "for sub in sublist:\n",
    "    df = pd.read_csv(path+sub)\n",
    "    if 'train' in sub:\n",
    "        df_stacking_train = df_stacking_train.merge(df,on='card_id',how='left')\n",
    "    else:\n",
    "        df_stacking_test = df_stacking_test.merge(df,on='card_id',how='left')\n",
    "\n",
    "df_stacking_train.head()"
   ]
  },
  {
   "cell_type": "markdown",
   "metadata": {},
   "source": [
    "#### BayesianRidge"
   ]
  },
  {
   "cell_type": "code",
   "execution_count": null,
   "metadata": {},
   "outputs": [],
   "source": [
    "NFOLDS = 5\n",
    "# kfold = KFold(n_splits=NFOLDS,shuffle=False,random_state=5)\n",
    "kfold = StratifiedKFold(n_splits=NFOLDS,shuffle=False,random_state=20)\n",
    "df_stacking_train['is_outlier'] = (df_stacking_train.target<-30).astype(np.int)\n",
    "label = ['target']\n",
    "tr_features = [_f for _f in df_stacking_train.columns if _f not in ['card_id','target','is_outlier']]\n",
    "\n",
    "ntrain = df_stacking_train.shape[0]\n",
    "ntest = df_stacking_test.shape[0]\n",
    "oof_train_pred = np.zeros((ntrain,))\n",
    "oof_test_pred = np.zeros((ntest,))\n",
    "oof_test_pred_skf = np.empty((NFOLDS, ntest))\n",
    "for foldIndex,(dev_index,val_index) in enumerate(kfold.split(df_stacking_train,df_stacking_train['is_outlier'])):\n",
    "    model = BayesianRidge(normalize=True)\n",
    "    x_dev = df_stacking_train[tr_features].iloc[dev_index]\n",
    "    y_dev = df_stacking_train[label].iloc[dev_index]\n",
    "    x_val = df_stacking_train[tr_features].iloc[val_index]\n",
    "    y_val = df_stacking_train[label].iloc[val_index]\n",
    "    model.fit(x_dev.values,y_dev.values)\n",
    "    oof_test_pred_skf[foldIndex,:] = model.predict(df_stacking_test[tr_features].values).reshape(-1,)\n",
    "    oof_train_pred[val_index] = model.predict(x_val.values).reshape(-1,)\n",
    "oof_test_pred[:] = oof_test_pred_skf.mean(axis=0)\n",
    "score = np.sqrt((np.sum(np.square(oof_train_pred - df_stacking_train[label].values.reshape(-1,)))/ntrain))\n",
    "\n",
    "df_sub = pd.DataFrame(data=df_stacking_test['card_id'].values,columns=['card_id'])\n",
    "df_sub['target'] = oof_test_pred\n",
    "print(\"score = %s\"%score)"
   ]
  },
  {
   "cell_type": "code",
   "execution_count": null,
   "metadata": {},
   "outputs": [],
   "source": [
    "df_stacking_train['stack_bayes_pred_%.5f'%score] = oof_train_pred\n",
    "df_stacking_test['stack_bayes_pred_%.5f'%score] = oof_test_pred\n",
    "df_stacking_train[['card_id','stack_bayes_pred_%.5f'%score]].to_csv('./datasets/stacking/level1/df_stack_bayes_train_pred_%.5f.csv'%score,index=False)\n",
    "df_stacking_test[['card_id','stack_bayes_pred_%.5f'%score]].to_csv('./datasets/stacking/level1/df_stack_bayes_test_pred_%.5f.csv'%score,index=False)\n",
    "\n",
    "df_stacking_train.drop(columns=['stack_bayes_pred_%.5f'%score],inplace=True)\n",
    "df_stacking_test.drop(columns=['stack_bayes_pred_%.5f'%score],inplace=True)"
   ]
  },
  {
   "cell_type": "code",
   "execution_count": null,
   "metadata": {},
   "outputs": [],
   "source": []
  }
 ],
 "metadata": {
  "kernelspec": {
   "display_name": "Python 3",
   "language": "python",
   "name": "python3"
  },
  "language_info": {
   "codemirror_mode": {
    "name": "ipython",
    "version": 3
   },
   "file_extension": ".py",
   "mimetype": "text/x-python",
   "name": "python",
   "nbconvert_exporter": "python",
   "pygments_lexer": "ipython3",
   "version": "3.6.5"
  },
  "toc": {
   "base_numbering": 1,
   "nav_menu": {},
   "number_sections": true,
   "sideBar": true,
   "skip_h1_title": false,
   "title_cell": "Table of Contents",
   "title_sidebar": "Contents",
   "toc_cell": false,
   "toc_position": {},
   "toc_section_display": true,
   "toc_window_display": false
  },
  "varInspector": {
   "cols": {
    "lenName": 16,
    "lenType": 16,
    "lenVar": 40
   },
   "kernels_config": {
    "python": {
     "delete_cmd_postfix": "",
     "delete_cmd_prefix": "del ",
     "library": "var_list.py",
     "varRefreshCmd": "print(var_dic_list())"
    },
    "r": {
     "delete_cmd_postfix": ") ",
     "delete_cmd_prefix": "rm(",
     "library": "var_list.r",
     "varRefreshCmd": "cat(var_dic_list()) "
    }
   },
   "types_to_exclude": [
    "module",
    "function",
    "builtin_function_or_method",
    "instance",
    "_Feature"
   ],
   "window_display": false
  }
 },
 "nbformat": 4,
 "nbformat_minor": 2
}
