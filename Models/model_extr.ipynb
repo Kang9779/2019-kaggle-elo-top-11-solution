{
 "cells": [
  {
   "cell_type": "code",
   "execution_count": 1,
   "metadata": {},
   "outputs": [],
   "source": [
    "from tqdm import tqdm_notebook, tnrange\n",
    "from sklearn.model_selection import KFold,StratifiedKFold,GroupKFold\n",
    "from sklearn.preprocessing import LabelEncoder\n",
    "from sklearn.ensemble import ExtraTreesRegressor\n",
    "from h2o.automl import H2OAutoML\n",
    "from feature_selector import FeatureSelector\n",
    "from h2o.estimators.xgboost import H2OXGBoostEstimator\n",
    "import pandas as pd\n",
    "import numpy as np\n",
    "import matplotlib.pyplot as plt\n",
    "import seaborn as sns\n",
    "import warnings\n",
    "import datetime\n",
    "import gc\n",
    "import os\n",
    "DATA_PATH = './datasets/'\n",
    "warnings.filterwarnings(\"ignore\")"
   ]
  },
  {
   "cell_type": "code",
   "execution_count": 2,
   "metadata": {},
   "outputs": [],
   "source": [
    "df_data = pd.read_csv(DATA_PATH+'df_data.csv',dtype={'first_active_month':np.str})\n",
    "df_train_test_additional_features = pd.read_csv(DATA_PATH+'df_train_test_features_additional.csv')\n",
    "df_additional_features = pd.read_csv(DATA_PATH+'df_additional_features.csv')\n",
    "\n",
    "df_data = df_data.merge(df_train_test_additional_features,on='card_id',how='left')\n",
    "df_data = df_data.merge(df_additional_features,on='card_id',how='left')\n",
    "\n",
    "path = './datasets/feature2/'\n",
    "sublist = os.listdir(path)\n",
    "for sub in sublist:\n",
    "    df = pd.read_csv(path+sub)\n",
    "    df_data = df_data.merge(df,on='card_id',how='left')"
   ]
  },
  {
   "cell_type": "code",
   "execution_count": 3,
   "metadata": {},
   "outputs": [],
   "source": [
    "df_card_merchant_statics = pd.read_csv(DATA_PATH+'df_card_merchant_statics.csv')\n",
    "df_card_merchant_vec = pd.read_csv(DATA_PATH+'df_card_merchant_vec.csv')\n",
    "df_card_city_statics = pd.read_csv(DATA_PATH+'df_card_city_statics.csv')\n",
    "\n",
    "df_data = df_data.merge(df_card_merchant_vec,on='card_id',how='left')\n",
    "df_data = df_data.merge(df_card_merchant_statics,on='card_id',how='left')\n",
    "df_data = df_data.merge(df_card_city_statics,on='card_id',how='left')"
   ]
  },
  {
   "cell_type": "code",
   "execution_count": 4,
   "metadata": {},
   "outputs": [],
   "source": [
    "df_data.fillna(-999,inplace=True)\n",
    "df_data.replace([np.inf,-1*np.inf],-999,inplace=True)"
   ]
  },
  {
   "cell_type": "code",
   "execution_count": 5,
   "metadata": {},
   "outputs": [
    {
     "name": "stdout",
     "output_type": "stream",
     "text": [
      "1505\n"
     ]
    }
   ],
   "source": [
    "df_train = df_data[df_data.is_test==0]\n",
    "df_test = df_data[df_data.is_test==1]\n",
    "df_train['is_outlier'] = (df_train.target<-30).astype(np.int)\n",
    "\n",
    "label = ['target']\n",
    "dropCols = ['card_id','first_active_month','is_outlier','is_test','target','purchase_date','merchant_id']\n",
    "tr_features = [_f for _f in df_train.columns if _f not in dropCols and df_train[_f].dtype!='object']\n",
    "print(len(tr_features))"
   ]
  },
  {
   "cell_type": "code",
   "execution_count": null,
   "metadata": {},
   "outputs": [
    {
     "name": "stdout",
     "output_type": "stream",
     "text": [
      "0 features with greater than 0.12 missing values.\n",
      "\n",
      "464 features with a correlation magnitude greater than 0.98.\n",
      "\n",
      "Training Gradient Boosting Model\n",
      "\n",
      "Training until validation scores don't improve for 100 rounds.\n",
      "Early stopping, best iteration is:\n",
      "[518]\tvalid_0's rmse: 3.74088\tvalid_0's l2: 13.9942\n",
      "Training until validation scores don't improve for 100 rounds.\n",
      "Early stopping, best iteration is:\n",
      "[510]\tvalid_0's rmse: 3.7556\tvalid_0's l2: 14.1045\n",
      "Training until validation scores don't improve for 100 rounds.\n",
      "Early stopping, best iteration is:\n",
      "[387]\tvalid_0's rmse: 3.75902\tvalid_0's l2: 14.1302\n",
      "Training until validation scores don't improve for 100 rounds.\n",
      "Early stopping, best iteration is:\n",
      "[376]\tvalid_0's rmse: 3.63568\tvalid_0's l2: 13.2182\n",
      "Training until validation scores don't improve for 100 rounds.\n",
      "Early stopping, best iteration is:\n",
      "[433]\tvalid_0's rmse: 3.75562\tvalid_0's l2: 14.1047\n",
      "Training until validation scores don't improve for 100 rounds.\n"
     ]
    }
   ],
   "source": [
    "import lightgbm as lgb\n",
    "\n",
    "fs = FeatureSelector(data = df_train[tr_features], labels = df_train['target'].values)\n",
    "\n",
    "fs.identify_missing(missing_threshold = 0.12)\n",
    "fs.identify_collinear(correlation_threshold = 0.98)\n",
    "fs.identify_zero_importance(task = 'regression', eval_metric = 'rmse', n_iterations = 10, early_stopping = True)\n",
    "fs.identify_low_importance(cumulative_importance = 0.99)\n",
    "fs.identify_single_unique()\n",
    "\n",
    "tr_removed = fs.remove(methods = 'all')\n",
    "\n",
    "tr_features = list(tr_removed.columns)\n",
    "\n",
    "len(tr_features)"
   ]
  },
  {
   "cell_type": "code",
   "execution_count": null,
   "metadata": {
    "scrolled": true
   },
   "outputs": [],
   "source": [
    "%%time\n",
    "\n",
    "def modelKFoldReg(df_train,df_test,model):\n",
    "    NFOLDS = 5\n",
    "    kfold = StratifiedKFold(n_splits=NFOLDS,shuffle=False,random_state=2018)\n",
    "    ntrain = df_train.shape[0]\n",
    "    ntest = df_test.shape[0]\n",
    "    oof_train_pred = np.zeros((ntrain,))\n",
    "    oof_test_pred = np.zeros((ntest,))\n",
    "    oof_test_pred_skf = np.empty((NFOLDS, ntest))\n",
    "    for foldIndex,(dev_index,val_index) in enumerate(kfold.split(df_train,df_train['is_outlier'])):\n",
    "        print(\"............第%s折...........\"%(foldIndex+1))\n",
    "        x_dev = df_train[tr_features].iloc[dev_index].values\n",
    "        y_dev = df_train[label].iloc[dev_index].values\n",
    "        x_val = df_train[tr_features].iloc[val_index].values\n",
    "        y_val = df_train[label].iloc[val_index].values\n",
    "        model.fit(x_dev, y_dev)\n",
    "        oof_test_pred_skf[foldIndex,:] = model.predict(df_test[tr_features].values).reshape(-1,)\n",
    "        oof_train_pred[val_index] = model.predict(x_val).reshape(-1,)\n",
    "    oof_test_pred[:] = oof_test_pred_skf.mean(axis=0)\n",
    "        \n",
    "    score = np.sqrt((np.sum(np.square(oof_train_pred - df_train[label].values.reshape(-1,)))/ntrain))\n",
    "    return score,oof_test_pred,oof_train_pred\n",
    "\n",
    "extr_params = {\n",
    "    'n_estimators':5000,\n",
    "    'max_depth':9,\n",
    "    'criterion':'mse',\n",
    "    'min_samples_split':10,\n",
    "    'min_samples_leaf':10,\n",
    "    'bootstrap':True,\n",
    "    'oob_score':True,\n",
    "    'verbose':1,\n",
    "    'n_jobs':20,\n",
    "    'random_state':34\n",
    "}\n",
    "model = ExtraTreesRegressor(**extr_params)\n",
    "score,oof_test_pred,oof_train_pred = modelKFoldReg(df_train,df_test,model)"
   ]
  },
  {
   "cell_type": "code",
   "execution_count": null,
   "metadata": {},
   "outputs": [],
   "source": [
    "print(\"score = %s\"%score)"
   ]
  },
  {
   "cell_type": "code",
   "execution_count": null,
   "metadata": {},
   "outputs": [],
   "source": [
    "df_train['oof_extr_pred_%.5f'%score] = oof_train_pred\n",
    "df_test['oof_extr_pred_%.5f'%score] = oof_test_pred\n",
    "df_train[['card_id','oof_extr_pred_%.5f'%score]].to_csv('./datasets/stacking/level1/df_extr_train_pred_%.5f.csv'%score,index=False)\n",
    "df_test[['card_id','oof_extr_pred_%.5f'%score]].to_csv('./datasets/stacking/level1/df_extr_test_pred_%.5f.csv'%score,index=False)\n",
    "\n",
    "df_train.drop(columns=['oof_extr_pred_%.5f'%score],inplace=True)\n",
    "df_test.drop(columns=['oof_extr_pred_%.5f'%score],inplace=True)"
   ]
  },
  {
   "cell_type": "code",
   "execution_count": null,
   "metadata": {},
   "outputs": [],
   "source": []
  }
 ],
 "metadata": {
  "kernelspec": {
   "display_name": "Python 3",
   "language": "python",
   "name": "python3"
  },
  "language_info": {
   "codemirror_mode": {
    "name": "ipython",
    "version": 3
   },
   "file_extension": ".py",
   "mimetype": "text/x-python",
   "name": "python",
   "nbconvert_exporter": "python",
   "pygments_lexer": "ipython3",
   "version": "3.6.5"
  }
 },
 "nbformat": 4,
 "nbformat_minor": 2
}
