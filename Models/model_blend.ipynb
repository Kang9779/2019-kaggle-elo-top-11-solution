{
 "cells": [
  {
   "cell_type": "code",
   "execution_count": 22,
   "metadata": {
    "scrolled": true
   },
   "outputs": [
    {
     "data": {
      "text/html": [
       "<div>\n",
       "<style scoped>\n",
       "    .dataframe tbody tr th:only-of-type {\n",
       "        vertical-align: middle;\n",
       "    }\n",
       "\n",
       "    .dataframe tbody tr th {\n",
       "        vertical-align: top;\n",
       "    }\n",
       "\n",
       "    .dataframe thead th {\n",
       "        text-align: right;\n",
       "    }\n",
       "</style>\n",
       "<table border=\"1\" class=\"dataframe\">\n",
       "  <thead>\n",
       "    <tr style=\"text-align: right;\">\n",
       "      <th></th>\n",
       "      <th>card_id</th>\n",
       "      <th>oof_rf_pred_3.67862</th>\n",
       "      <th>oof_rf_pred_3.68035</th>\n",
       "      <th>oof_rf_pred_3.68224</th>\n",
       "      <th>oof_rf_pred_3.68906</th>\n",
       "      <th>oof_rf_pred_3.66829</th>\n",
       "    </tr>\n",
       "  </thead>\n",
       "  <tbody>\n",
       "    <tr>\n",
       "      <th>0</th>\n",
       "      <td>C_ID_92a2005557</td>\n",
       "      <td>-0.319963</td>\n",
       "      <td>-0.334043</td>\n",
       "      <td>-0.321808</td>\n",
       "      <td>-0.332009</td>\n",
       "      <td>-0.334427</td>\n",
       "    </tr>\n",
       "    <tr>\n",
       "      <th>1</th>\n",
       "      <td>C_ID_3d0044924f</td>\n",
       "      <td>-2.146382</td>\n",
       "      <td>-1.123679</td>\n",
       "      <td>-0.939795</td>\n",
       "      <td>-1.005080</td>\n",
       "      <td>-1.977177</td>\n",
       "    </tr>\n",
       "    <tr>\n",
       "      <th>2</th>\n",
       "      <td>C_ID_d639edf6cd</td>\n",
       "      <td>0.455485</td>\n",
       "      <td>0.411255</td>\n",
       "      <td>0.390175</td>\n",
       "      <td>0.414275</td>\n",
       "      <td>0.450265</td>\n",
       "    </tr>\n",
       "    <tr>\n",
       "      <th>3</th>\n",
       "      <td>C_ID_186d6a6901</td>\n",
       "      <td>0.040288</td>\n",
       "      <td>0.076777</td>\n",
       "      <td>0.030343</td>\n",
       "      <td>-0.024724</td>\n",
       "      <td>0.033960</td>\n",
       "    </tr>\n",
       "    <tr>\n",
       "      <th>4</th>\n",
       "      <td>C_ID_cdbd2c0db2</td>\n",
       "      <td>-0.230471</td>\n",
       "      <td>-0.224773</td>\n",
       "      <td>-0.244359</td>\n",
       "      <td>-0.271021</td>\n",
       "      <td>-0.224211</td>\n",
       "    </tr>\n",
       "  </tbody>\n",
       "</table>\n",
       "</div>"
      ],
      "text/plain": [
       "           card_id  oof_rf_pred_3.67862  oof_rf_pred_3.68035  \\\n",
       "0  C_ID_92a2005557            -0.319963            -0.334043   \n",
       "1  C_ID_3d0044924f            -2.146382            -1.123679   \n",
       "2  C_ID_d639edf6cd             0.455485             0.411255   \n",
       "3  C_ID_186d6a6901             0.040288             0.076777   \n",
       "4  C_ID_cdbd2c0db2            -0.230471            -0.224773   \n",
       "\n",
       "   oof_rf_pred_3.68224  oof_rf_pred_3.68906  oof_rf_pred_3.66829  \n",
       "0            -0.321808            -0.332009            -0.334427  \n",
       "1            -0.939795            -1.005080            -1.977177  \n",
       "2             0.390175             0.414275             0.450265  \n",
       "3             0.030343            -0.024724             0.033960  \n",
       "4            -0.244359            -0.271021            -0.224211  "
      ]
     },
     "execution_count": 22,
     "metadata": {},
     "output_type": "execute_result"
    }
   ],
   "source": [
    "## 多个prediction blending\n",
    "import os\n",
    "import pandas as pd\n",
    "df_stacking_train = pd.read_csv('./os/h2orf_train_pred_3.67862.csv')\n",
    "df_stacking_test = pd.read_csv('./os/h2orf_test_pred_3.67862.csv')\n",
    "\n",
    "path = './os/'\n",
    "sublist = os.listdir(path)\n",
    "sublist.remove('h2orf_test_pred_3.67862.csv')\n",
    "sublist.remove('h2orf_train_pred_3.67862.csv')\n",
    "\n",
    "for sub in sublist:\n",
    "    df = pd.read_csv(path+sub)\n",
    "    if 'train' in sub:\n",
    "        df_stacking_train = df_stacking_train.merge(df,on='card_id',how='left')\n",
    "    else:\n",
    "        df_stacking_test = df_stacking_test.merge(df,on='card_id',how='left')\n",
    "\n",
    "df_stacking_train.head()"
   ]
  },
  {
   "cell_type": "code",
   "execution_count": 25,
   "metadata": {},
   "outputs": [
    {
     "data": {
      "text/html": [
       "<div>\n",
       "<style scoped>\n",
       "    .dataframe tbody tr th:only-of-type {\n",
       "        vertical-align: middle;\n",
       "    }\n",
       "\n",
       "    .dataframe tbody tr th {\n",
       "        vertical-align: top;\n",
       "    }\n",
       "\n",
       "    .dataframe thead th {\n",
       "        text-align: right;\n",
       "    }\n",
       "</style>\n",
       "<table border=\"1\" class=\"dataframe\">\n",
       "  <thead>\n",
       "    <tr style=\"text-align: right;\">\n",
       "      <th></th>\n",
       "      <th>card_id</th>\n",
       "      <th>oof_rf_pred_3.67862</th>\n",
       "      <th>oof_rf_pred_3.68035</th>\n",
       "      <th>oof_rf_pred_3.68224</th>\n",
       "      <th>oof_rf_pred_3.68906</th>\n",
       "      <th>oof_rf_pred_3.66829</th>\n",
       "      <th>target_rfs</th>\n",
       "    </tr>\n",
       "  </thead>\n",
       "  <tbody>\n",
       "    <tr>\n",
       "      <th>0</th>\n",
       "      <td>C_ID_92a2005557</td>\n",
       "      <td>-0.319963</td>\n",
       "      <td>-0.334043</td>\n",
       "      <td>-0.321808</td>\n",
       "      <td>-0.332009</td>\n",
       "      <td>-0.334427</td>\n",
       "      <td>-0.328450</td>\n",
       "    </tr>\n",
       "    <tr>\n",
       "      <th>1</th>\n",
       "      <td>C_ID_3d0044924f</td>\n",
       "      <td>-2.146382</td>\n",
       "      <td>-1.123679</td>\n",
       "      <td>-0.939795</td>\n",
       "      <td>-1.005080</td>\n",
       "      <td>-1.977177</td>\n",
       "      <td>-1.438423</td>\n",
       "    </tr>\n",
       "    <tr>\n",
       "      <th>2</th>\n",
       "      <td>C_ID_d639edf6cd</td>\n",
       "      <td>0.455485</td>\n",
       "      <td>0.411255</td>\n",
       "      <td>0.390175</td>\n",
       "      <td>0.414275</td>\n",
       "      <td>0.450265</td>\n",
       "      <td>0.424291</td>\n",
       "    </tr>\n",
       "    <tr>\n",
       "      <th>3</th>\n",
       "      <td>C_ID_186d6a6901</td>\n",
       "      <td>0.040288</td>\n",
       "      <td>0.076777</td>\n",
       "      <td>0.030343</td>\n",
       "      <td>-0.024724</td>\n",
       "      <td>0.033960</td>\n",
       "      <td>0.031329</td>\n",
       "    </tr>\n",
       "    <tr>\n",
       "      <th>4</th>\n",
       "      <td>C_ID_cdbd2c0db2</td>\n",
       "      <td>-0.230471</td>\n",
       "      <td>-0.224773</td>\n",
       "      <td>-0.244359</td>\n",
       "      <td>-0.271021</td>\n",
       "      <td>-0.224211</td>\n",
       "      <td>-0.238967</td>\n",
       "    </tr>\n",
       "  </tbody>\n",
       "</table>\n",
       "</div>"
      ],
      "text/plain": [
       "           card_id  oof_rf_pred_3.67862  oof_rf_pred_3.68035  \\\n",
       "0  C_ID_92a2005557            -0.319963            -0.334043   \n",
       "1  C_ID_3d0044924f            -2.146382            -1.123679   \n",
       "2  C_ID_d639edf6cd             0.455485             0.411255   \n",
       "3  C_ID_186d6a6901             0.040288             0.076777   \n",
       "4  C_ID_cdbd2c0db2            -0.230471            -0.224773   \n",
       "\n",
       "   oof_rf_pred_3.68224  oof_rf_pred_3.68906  oof_rf_pred_3.66829  target_rfs  \n",
       "0            -0.321808            -0.332009            -0.334427   -0.328450  \n",
       "1            -0.939795            -1.005080            -1.977177   -1.438423  \n",
       "2             0.390175             0.414275             0.450265    0.424291  \n",
       "3             0.030343            -0.024724             0.033960    0.031329  \n",
       "4            -0.244359            -0.271021            -0.224211   -0.238967  "
      ]
     },
     "execution_count": 25,
     "metadata": {},
     "output_type": "execute_result"
    }
   ],
   "source": [
    "df_stacking_train.head()"
   ]
  },
  {
   "cell_type": "code",
   "execution_count": 24,
   "metadata": {},
   "outputs": [],
   "source": [
    "df_stacking_train['target_rfs'] = df_stacking_train['oof_rf_pred_3.67862']+df_stacking_train['oof_rf_pred_3.68035']+df_stacking_train['oof_rf_pred_3.68224']+df_stacking_train['oof_rf_pred_3.68906']+df_stacking_train['oof_rf_pred_3.66829']\n",
    "df_stacking_train['target_rfs'] = df_stacking_train['target_rfs']/5"
   ]
  },
  {
   "cell_type": "code",
   "execution_count": 26,
   "metadata": {},
   "outputs": [],
   "source": [
    "df_stacking_test['target_rfs'] = df_stacking_test['oof_rf_pred_3.67862']+df_stacking_test['oof_rf_pred_3.68035']+df_stacking_test['oof_rf_pred_3.68224']+df_stacking_test['oof_rf_pred_3.68906']+df_stacking_test['oof_rf_pred_3.66829']\n",
    "df_stacking_test['target_rfs'] = df_stacking_test['target_rfs']/5"
   ]
  },
  {
   "cell_type": "code",
   "execution_count": 27,
   "metadata": {},
   "outputs": [
    {
     "data": {
      "text/plain": [
       "card_id                0\n",
       "oof_rf_pred_3.67862    0\n",
       "oof_rf_pred_3.68035    0\n",
       "oof_rf_pred_3.68906    0\n",
       "oof_rf_pred_3.68224    0\n",
       "oof_rf_pred_3.66829    0\n",
       "target_rfs             0\n",
       "dtype: int64"
      ]
     },
     "execution_count": 27,
     "metadata": {},
     "output_type": "execute_result"
    }
   ],
   "source": [
    "df_stacking_test.isnull().sum()"
   ]
  },
  {
   "cell_type": "code",
   "execution_count": 28,
   "metadata": {},
   "outputs": [],
   "source": [
    "df_stacking_train[['card_id','target_rfs']].to_csv('./df_rfs_train_mean.csv',index=False)\n",
    "df_stacking_test[['card_id','target_rfs']].to_csv('./df_rfs_test_mean.csv',index=False)\n"
   ]
  },
  {
   "cell_type": "code",
   "execution_count": 17,
   "metadata": {},
   "outputs": [
    {
     "name": "stdout",
     "output_type": "stream",
     "text": [
      "(201917, 7)\n"
     ]
    }
   ],
   "source": [
    "print(df_stacking_train.shape)"
   ]
  },
  {
   "cell_type": "code",
   "execution_count": null,
   "metadata": {},
   "outputs": [],
   "source": []
  }
 ],
 "metadata": {
  "hide_input": false,
  "kernelspec": {
   "display_name": "Python 3",
   "language": "python",
   "name": "python3"
  },
  "language_info": {
   "codemirror_mode": {
    "name": "ipython",
    "version": 3
   },
   "file_extension": ".py",
   "mimetype": "text/x-python",
   "name": "python",
   "nbconvert_exporter": "python",
   "pygments_lexer": "ipython3",
   "version": "3.6.5"
  },
  "toc": {
   "base_numbering": 1,
   "nav_menu": {},
   "number_sections": true,
   "sideBar": true,
   "skip_h1_title": false,
   "title_cell": "Table of Contents",
   "title_sidebar": "Contents",
   "toc_cell": false,
   "toc_position": {},
   "toc_section_display": true,
   "toc_window_display": false
  },
  "varInspector": {
   "cols": {
    "lenName": 16,
    "lenType": 16,
    "lenVar": 40
   },
   "kernels_config": {
    "python": {
     "delete_cmd_postfix": "",
     "delete_cmd_prefix": "del ",
     "library": "var_list.py",
     "varRefreshCmd": "print(var_dic_list())"
    },
    "r": {
     "delete_cmd_postfix": ") ",
     "delete_cmd_prefix": "rm(",
     "library": "var_list.r",
     "varRefreshCmd": "cat(var_dic_list()) "
    }
   },
   "types_to_exclude": [
    "module",
    "function",
    "builtin_function_or_method",
    "instance",
    "_Feature"
   ],
   "window_display": false
  }
 },
 "nbformat": 4,
 "nbformat_minor": 2
}
