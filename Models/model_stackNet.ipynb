{
 "cells": [
  {
   "cell_type": "code",
   "execution_count": 7,
   "metadata": {},
   "outputs": [
    {
     "ename": "ModuleNotFoundError",
     "evalue": "No module named 'pystacknet'",
     "output_type": "error",
     "traceback": [
      "\u001b[0;31m---------------------------------------------------------------------------\u001b[0m",
      "\u001b[0;31mModuleNotFoundError\u001b[0m                       Traceback (most recent call last)",
      "\u001b[0;32m<ipython-input-7-46499c77fe95>\u001b[0m in \u001b[0;36m<module>\u001b[0;34m()\u001b[0m\n\u001b[1;32m     11\u001b[0m \u001b[0;34m\u001b[0m\u001b[0m\n\u001b[1;32m     12\u001b[0m ]\n\u001b[0;32m---> 13\u001b[0;31m \u001b[0;32mfrom\u001b[0m \u001b[0mpystacknet\u001b[0m \u001b[0;32mimport\u001b[0m \u001b[0mStackNetClassifier\u001b[0m\u001b[0;34m\u001b[0m\u001b[0m\n\u001b[0m\u001b[1;32m     14\u001b[0m \u001b[0;34m\u001b[0m\u001b[0m\n\u001b[1;32m     15\u001b[0m model=StackNetClassifier(models, metric=\"rmse\", folds=5,\n",
      "\u001b[0;31mModuleNotFoundError\u001b[0m: No module named 'pystacknet'"
     ]
    }
   ],
   "source": [
    "from sklearn.ensemble import RandomForestRegressor,ExtraTreesRegressor,GradientBoostingRegressor\n",
    "from sklearn.ensemble import AdaBoostRegressor\n",
    "from sklearn.linear_model import LinearRegression,Ridge\n",
    "\n",
    "models=[ \n",
    "        [RandomForestRegressor(n_estimators=1000, max_depth=8, max_features=0.5, random_state=2018),\n",
    "         ExtraTreesRegressor (n_estimators=1000, max_depth=8, max_features=0.5, random_state=20),\n",
    "         GradientBoostingRegressor(learning_rate=0.01,n_estimators=2000,subsample=0.9,max_depth=8,random_state=20)\n",
    "         ],\n",
    "        [Ridge()]\n",
    "\n",
    "]\n",
    "from pystacknet import StackNetClassifier\n",
    "\n",
    "model=StackNetClassifier(models, metric=\"rmse\", folds=5,\n",
    "                         restacking=False,use_retraining=True, use_proba=True,\n",
    "                         random_state=12345,n_jobs=20, verbose=1)\n",
    "\n",
    "model.fit(x,y)\n",
    "preds=model.predict_proba(x_test)\n"
   ]
  },
  {
   "cell_type": "code",
   "execution_count": 6,
   "metadata": {},
   "outputs": [
    {
     "ename": "ModuleNotFoundError",
     "evalue": "No module named 'pystacknet'",
     "output_type": "error",
     "traceback": [
      "\u001b[0;31m---------------------------------------------------------------------------\u001b[0m",
      "\u001b[0;31mModuleNotFoundError\u001b[0m                       Traceback (most recent call last)",
      "\u001b[0;32m<ipython-input-6-366094ef364f>\u001b[0m in \u001b[0;36m<module>\u001b[0;34m()\u001b[0m\n\u001b[0;32m----> 1\u001b[0;31m \u001b[0;32mfrom\u001b[0m \u001b[0mpystacknet\u001b[0m\u001b[0;34m.\u001b[0m\u001b[0mpystacknet\u001b[0m \u001b[0;32mimport\u001b[0m \u001b[0mStackNetClassifier\u001b[0m\u001b[0;34m\u001b[0m\u001b[0m\n\u001b[0m",
      "\u001b[0;31mModuleNotFoundError\u001b[0m: No module named 'pystacknet'"
     ]
    }
   ],
   "source": [
    "from pystacknet.pystacknet import StackNetClassifier\n"
   ]
  },
  {
   "cell_type": "code",
   "execution_count": null,
   "metadata": {},
   "outputs": [],
   "source": []
  }
 ],
 "metadata": {
  "kernelspec": {
   "display_name": "Python 3",
   "language": "python",
   "name": "python3"
  },
  "language_info": {
   "codemirror_mode": {
    "name": "ipython",
    "version": 3
   },
   "file_extension": ".py",
   "mimetype": "text/x-python",
   "name": "python",
   "nbconvert_exporter": "python",
   "pygments_lexer": "ipython3",
   "version": "3.6.5"
  }
 },
 "nbformat": 4,
 "nbformat_minor": 2
}
