{
 "cells": [
  {
   "cell_type": "code",
   "execution_count": null,
   "metadata": {
    "scrolled": true
   },
   "outputs": [],
   "source": [
    "from tqdm import tqdm_notebook, tnrange\n",
    "from sklearn.model_selection import KFold,StratifiedKFold,GroupKFold\n",
    "from sklearn.preprocessing import LabelEncoder\n",
    "from sklearn.linear_model import BayesianRidge,LinearRegression\n",
    "from h2o.automl import H2OAutoML\n",
    "from h2o.estimators.xgboost import H2OXGBoostEstimator\n",
    "import pandas as pd\n",
    "import numpy as np\n",
    "import matplotlib.pyplot as plt\n",
    "import seaborn as sns\n",
    "import warnings\n",
    "import datetime\n",
    "import gc\n",
    "import h2o\n",
    "import os\n",
    "DATA_PATH = './datasets/'\n",
    "warnings.filterwarnings(\"ignore\")\n",
    "\n",
    "h2o.init()#开启h2o集群\n",
    "\n",
    "%matplotlib"
   ]
  },
  {
   "cell_type": "code",
   "execution_count": null,
   "metadata": {},
   "outputs": [],
   "source": [
    "df_data = pd.read_csv(DATA_PATH+'df_data.csv',dtype={'first_active_month':np.str})\n",
    "df_train_test_additional_features = pd.read_csv(DATA_PATH+'df_train_test_features_additional.csv')\n",
    "df_additional_features = pd.read_csv(DATA_PATH+'df_additional_features.csv')\n",
    "\n",
    "df_data = df_data.merge(df_train_test_additional_features,on='card_id',how='left')\n",
    "df_data = df_data.merge(df_additional_features,on='card_id',how='left')\n",
    "\n",
    "path = './datasets/feature2/'\n",
    "sublist = os.listdir(path)\n",
    "for sub in sublist:\n",
    "    df = pd.read_csv(path+sub)\n",
    "    df_data = df_data.merge(df,on='card_id',how='left')"
   ]
  },
  {
   "cell_type": "code",
   "execution_count": null,
   "metadata": {},
   "outputs": [],
   "source": [
    "df_cate_merchantCate_fm = pd.read_csv('./datasets/cate_fm/df_hist_new_cate_merchantCate_fm_feat.csv')\n",
    "df_cate_merchant_fm = pd.read_csv('./datasets/cate_fm/df_hist_new_cate_merchant_fm_feat.csv')\n",
    "\n",
    "df_data = df_data.merge(df_cate_merchantCate_fm,on='card_id',how='left')\n",
    "df_data = df_data.merge(df_cate_merchant_fm,on='card_id',how='left')"
   ]
  },
  {
   "cell_type": "code",
   "execution_count": null,
   "metadata": {},
   "outputs": [],
   "source": [
    "df_nmf_card_merCate_features = pd.read_csv(DATA_PATH+'df_nmf_card_merCate_features.csv')\n",
    "df_nmf_card_city_features = pd.read_csv(DATA_PATH+'df_nmf_card_city_features.csv')\n",
    "df_card_merchant_features = pd.read_csv(DATA_PATH+'df_card_merchant_features.csv')\n",
    "\n",
    "df_data = df_data.merge(df_nmf_card_merCate_features,on='card_id',how='left')\n",
    "df_data = df_data.merge(df_nmf_card_city_features,on='card_id',how='left')\n",
    "df_data = df_data.merge(df_card_merchant_features,on='card_id',how='left')"
   ]
  },
  {
   "cell_type": "code",
   "execution_count": null,
   "metadata": {},
   "outputs": [],
   "source": [
    "df_data.fillna(-999,inplace=True)\n",
    "df_data.replace([np.inf,-1*np.inf],-999,inplace=True)"
   ]
  },
  {
   "cell_type": "code",
   "execution_count": null,
   "metadata": {},
   "outputs": [],
   "source": [
    "df_train = df_data[df_data.is_test==0]\n",
    "df_test = df_data[df_data.is_test==1]\n",
    "df_train['is_outlier'] = (df_train.target<-30).astype(np.int)\n",
    "\n",
    "label = ['target']\n",
    "dropCols = ['card_id','first_active_month','is_outlier','is_test','target','purchase_date','merchant_id']\n",
    "tr_features = [_f for _f in df_train.columns if _f not in dropCols and df_train[_f].dtype!='object']\n",
    "print(len(tr_features))\n",
    "\n",
    "df_train = h2o.H2OFrame.from_python(df_train)\n",
    "df_test = h2o.H2OFrame.from_python(df_test)"
   ]
  },
  {
   "cell_type": "code",
   "execution_count": null,
   "metadata": {},
   "outputs": [],
   "source": [
    "%%time\n",
    "h2o_xgb_params = {\n",
    "    'learn_rate':0.01,\n",
    "    'ntrees':3000,\n",
    "    'max_depth':8,\n",
    "    'nfolds':5,\n",
    "    'col_sample_rate':0.9,\n",
    "    'col_sample_rate_per_tree':0.9,\n",
    "    'sample_rate':0.9,\n",
    "    'gamma':1.45,\n",
    "    'reg_lambda':20.0,\n",
    "#     'stopping_metric':'rmse',\n",
    "    'stopping_rounds':50,\n",
    "    'seed':40,\n",
    "#     'tree_method':'hist',\n",
    "#     'grow_policy':\"lossguide\",\n",
    "    'keep_cross_validation_predictions':True,    \n",
    "}\n",
    "\n",
    "h2o_xgb = H2OXGBoostEstimator(**h2o_xgb_params)\n",
    "\n",
    "h2o_xgb.train(tr_features, 'target', training_frame=df_train)\n",
    "\n",
    "xgb_test_pred = h2o_xgb.predict(test_data = df_test[tr_features]).as_data_frame()['predict'].values\n",
    "xgb_train_pred = h2o_xgb.cross_validation_holdout_predictions().as_data_frame()['predict'].values"
   ]
  },
  {
   "cell_type": "code",
   "execution_count": null,
   "metadata": {},
   "outputs": [],
   "source": [
    "h2o_xgb.cross_validation_metrics_summary()"
   ]
  },
  {
   "cell_type": "code",
   "execution_count": null,
   "metadata": {},
   "outputs": [],
   "source": [
    "y_target = df_train[label].as_data_frame()[label].values.reshape(-1,)\n",
    "score = np.sqrt((np.sum(np.square(xgb_train_pred - y_target))/df_train.shape[0]))\n",
    "print(\"score = %s\"%score)"
   ]
  },
  {
   "cell_type": "code",
   "execution_count": null,
   "metadata": {},
   "outputs": [],
   "source": [
    "df_train['oof_h2oxgb_pred_%.5f'%score] = h2o.H2OFrame.from_python(xgb_train_pred)\n",
    "df_test['oof_h2oxgb_pred_%.5f'%score] = h2o.H2OFrame.from_python(xgb_test_pred)\n",
    "h2o.download_csv(data=df_train[['card_id','oof_h2oxgb_pred_%.5f'%score]],filename='./datasets/stacking/level1/h2oxgb_train_pred_%.5f.csv'%score)\n",
    "h2o.download_csv(data=df_test[['card_id','oof_h2oxgb_pred_%.5f'%score]],filename='./datasets/stacking/levle1/h2oxgb_test_pred_%.5f.csv'%score)"
   ]
  },
  {
   "cell_type": "code",
   "execution_count": null,
   "metadata": {},
   "outputs": [],
   "source": []
  }
 ],
 "metadata": {
  "kernelspec": {
   "display_name": "Python 3",
   "language": "python",
   "name": "python3"
  },
  "language_info": {
   "codemirror_mode": {
    "name": "ipython",
    "version": 3
   },
   "file_extension": ".py",
   "mimetype": "text/x-python",
   "name": "python",
   "nbconvert_exporter": "python",
   "pygments_lexer": "ipython3",
   "version": "3.6.5"
  }
 },
 "nbformat": 4,
 "nbformat_minor": 2
}
