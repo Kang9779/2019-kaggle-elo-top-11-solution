{
 "cells": [
  {
   "cell_type": "code",
   "execution_count": null,
   "metadata": {},
   "outputs": [],
   "source": [
    "from sklearn.model_selection import KFold,StratifiedKFold,GroupKFold\n",
    "from sklearn.preprocessing import LabelEncoder\n",
    "from tqdm import tqdm_notebook, tnrange\n",
    "from sklearn.metrics import mean_squared_error\n",
    "from sklearn.linear_model import BayesianRidge,LinearRegression\n",
    "import pandas as pd\n",
    "import numpy as np\n",
    "import matplotlib.pyplot as plt\n",
    "import seaborn as sns\n",
    "import warnings\n",
    "import datetime\n",
    "import gc\n",
    "import lightgbm as lgb\n",
    "import xgboost as xgb\n",
    "import catboost as catb\n",
    "import os\n",
    "DATA_PATH = './datasets/'\n",
    "warnings.filterwarnings(\"ignore\")\n",
    "%matplotlib inline"
   ]
  },
  {
   "cell_type": "markdown",
   "metadata": {},
   "source": [
    "### 模型训练"
   ]
  },
  {
   "cell_type": "code",
   "execution_count": null,
   "metadata": {},
   "outputs": [],
   "source": [
    "df_data = pd.read_csv(DATA_PATH+'df_data.csv',dtype={'first_active_month':np.str})\n",
    "df_train_test_additional_features = pd.read_csv(DATA_PATH+'df_train_test_features_additional.csv')\n",
    "df_additional_features = pd.read_csv(DATA_PATH+'df_additional_features.csv')\n",
    "\n",
    "df_data = df_data.merge(df_train_test_additional_features,on='card_id',how='left')\n",
    "df_data = df_data.merge(df_additional_features,on='card_id',how='left')\n",
    "\n",
    "path = './datasets/feature2/'\n",
    "sublist = os.listdir(path)\n",
    "for sub in sublist:\n",
    "    df = pd.read_csv(path+sub)\n",
    "    df_data = df_data.merge(df,on='card_id',how='left')"
   ]
  },
  {
   "cell_type": "code",
   "execution_count": null,
   "metadata": {},
   "outputs": [],
   "source": [
    "df_cate_statics = pd.read_csv('./datasets/df_cate_statics.csv')\n",
    "df_data = df_data.merge(df_cate_statics,on='card_id',how='left')"
   ]
  },
  {
   "cell_type": "code",
   "execution_count": null,
   "metadata": {},
   "outputs": [],
   "source": [
    "df_cate_merchantCate_fm = pd.read_csv('./datasets/cate_fm/df_hist_new_cate_merchantCate_fm_feat.csv')\n",
    "df_cate_merchant_fm = pd.read_csv('./datasets/cate_fm/df_hist_new_cate_merchant_fm_feat.csv')\n",
    "\n",
    "df_data = df_data.merge(df_cate_merchantCate_fm,on='card_id',how='left')\n",
    "df_data = df_data.merge(df_cate_merchant_fm,on='card_id',how='left')"
   ]
  },
  {
   "cell_type": "code",
   "execution_count": null,
   "metadata": {},
   "outputs": [],
   "source": [
    "df_card_merchant_statics = pd.read_csv(DATA_PATH+'df_card_merchant_statics.csv')\n",
    "df_card_merchant_vec = pd.read_csv(DATA_PATH+'df_card_merchant_vec.csv')\n",
    "df_card_city_statics = pd.read_csv(DATA_PATH+'df_card_city_statics.csv')\n",
    "df_card_merchant_features = pd.read_csv(DATA_PATH+'df_card_merchant_features.csv')\n",
    "\n",
    "df_data = df_data.merge(df_card_merchant_features,on='card_id',how='left')\n",
    "df_data = df_data.merge(df_card_merchant_vec,on='card_id',how='left')\n",
    "df_data = df_data.merge(df_card_merchant_statics,on='card_id',how='left')\n",
    "df_data = df_data.merge(df_card_city_statics,on='card_id',how='left')"
   ]
  },
  {
   "cell_type": "code",
   "execution_count": null,
   "metadata": {},
   "outputs": [],
   "source": [
    "df_train = df_data[df_data.is_test==0]\n",
    "df_test = df_data[df_data.is_test==1]\n",
    "df_train['is_outlier'] = (df_train.target<-30).astype(np.int)\n",
    "\n",
    "label = ['target']\n",
    "dropCols = ['card_id','first_active_month','is_outlier','is_test','target','purchase_date','merchant_id']\n",
    "tr_features = [_f for _f in df_train.columns if _f not in dropCols and df_train[_f].dtype!='object']\n",
    "print(len(tr_features))"
   ]
  },
  {
   "cell_type": "code",
   "execution_count": null,
   "metadata": {},
   "outputs": [],
   "source": [
    "from feature_selector import FeatureSelector\n",
    "\n",
    "fs = FeatureSelector(data = df_train[tr_features], labels = df_train['target'].values)\n",
    "\n",
    "fs.identify_missing(missing_threshold = 0.12)\n",
    "fs.identify_collinear(correlation_threshold = 0.98)\n",
    "fs.identify_zero_importance(task = 'regression', eval_metric = 'rmse', n_iterations = 10, early_stopping = True)\n",
    "fs.identify_low_importance(cumulative_importance = 0.99)\n",
    "fs.identify_single_unique()\n",
    "\n",
    "tr_removed = fs.remove(methods = 'all')\n",
    "\n",
    "tr_features = list(tr_removed.columns)\n",
    "\n",
    "len(tr_features)"
   ]
  },
  {
   "cell_type": "code",
   "execution_count": null,
   "metadata": {
    "scrolled": true
   },
   "outputs": [],
   "source": [
    "%%time\n",
    "\n",
    "def modelKFoldReg(df_train,df_test,model):\n",
    "    \n",
    "    NFOLDS = 5\n",
    "    kfold = StratifiedKFold(n_splits=NFOLDS,shuffle=False,random_state=2018)\n",
    "\n",
    "    ntrain = df_train.shape[0]\n",
    "    ntest = df_test.shape[0]\n",
    "    oof_train_pred = np.zeros((ntrain,))\n",
    "    oof_test_pred = np.zeros((ntest,))\n",
    "    oof_test_pred_skf = np.empty((NFOLDS, ntest))\n",
    "    for foldIndex,(dev_index,val_index) in enumerate(kfold.split(df_train,df_train['is_outlier'])):\n",
    "        x_dev = df_train[tr_features].iloc[dev_index]\n",
    "        y_dev = df_train[label].iloc[dev_index]\n",
    "        x_val = df_train[tr_features].iloc[val_index]\n",
    "        y_val = df_train[label].iloc[val_index]\n",
    "        model.fit(x_dev, y_dev,eval_set=[(x_dev,y_dev),(x_val,y_val)],early_stopping_rounds=50,verbose=100)\n",
    "        oof_test_pred_skf[foldIndex,:] = model.predict(df_test[tr_features])\n",
    "        oof_train_pred[val_index] = model.predict(x_val)\n",
    "    oof_test_pred[:] = oof_test_pred_skf.mean(axis=0)\n",
    "    score = np.sqrt((np.sum(np.square(oof_train_pred - df_train[label].values.reshape(-1,)))/ntrain))\n",
    "    return model,score,oof_test_pred,oof_train_pred\n",
    "    \n",
    "xgb_params = {\n",
    "    'objective': 'reg:linear',\n",
    "    'booster': 'gbtree',\n",
    "    'learning_rate': 0.01,\n",
    "    'n_estimators':5000,\n",
    "    'max_depth': 10,\n",
    "    'gamma' : 1.45,\n",
    "    'alpha': 0.1,\n",
    "    'lambda': 0.3,\n",
    "    'subsample': 0.9,\n",
    "    'colsample_bytree': 0.054,\n",
    "    'colsample_bylevel': 0.50,\n",
    "    'random_state': 2018\n",
    "}\n",
    "xgb_est = xgb.XGBRegressor(**xgb_params)\n",
    "xgb_est,score,oof_test_pred,oof_train_pred = modelKFoldReg(df_train,df_test,xgb_est)\n",
    "\n",
    "df_test['target'] = oof_test_pred\n",
    "\n",
    "df_sub = df_test[['card_id','target']]\n",
    "df_sub.to_csv('./submission/df_xgb_sub_%.5f.csv'%score,index=None)"
   ]
  },
  {
   "cell_type": "code",
   "execution_count": null,
   "metadata": {},
   "outputs": [],
   "source": [
    "print(\"score = %s\"%score)"
   ]
  },
  {
   "cell_type": "code",
   "execution_count": null,
   "metadata": {},
   "outputs": [],
   "source": [
    "df_train['oof_xgb_pred_%.5f'%score] = oof_train_pred\n",
    "df_test['oof_xgb_pred_%.5f'%score] = oof_test_pred\n",
    "df_train[['card_id','oof_xgb_pred_%.5f'%score]].to_csv('./datasets/stacking/level1/df_xgb_train_pred_%.5f.csv'%score,index=False)\n",
    "df_test[['card_id','oof_xgb_pred_%.5f'%score]].to_csv('./datasets/stacking/level1/df_xgb_test_pred_%.5f.csv'%score,index=False)\n",
    "\n",
    "df_train.drop(columns=['oof_xgb_pred_%.5f'%score],inplace=True)\n",
    "df_test.drop(columns=['oof_xgb_pred_%.5f'%score],inplace=True)"
   ]
  },
  {
   "cell_type": "code",
   "execution_count": null,
   "metadata": {
    "scrolled": true
   },
   "outputs": [],
   "source": [
    "#特征重要性分析\n",
    "fig, ax = plt.subplots(figsize=(12,18))\n",
    "xgb.plot_importance(xgb_est,max_num_features=100, height=0.8, ax=ax)\n",
    "ax.grid(False)\n",
    "plt.title(\"XGB - Feature Importance\", fontsize=10)\n",
    "plt.show()"
   ]
  },
  {
   "cell_type": "code",
   "execution_count": null,
   "metadata": {},
   "outputs": [],
   "source": []
  }
 ],
 "metadata": {
  "hide_input": false,
  "kernelspec": {
   "display_name": "Python 3",
   "language": "python",
   "name": "python3"
  },
  "language_info": {
   "codemirror_mode": {
    "name": "ipython",
    "version": 3
   },
   "file_extension": ".py",
   "mimetype": "text/x-python",
   "name": "python",
   "nbconvert_exporter": "python",
   "pygments_lexer": "ipython3",
   "version": "3.6.5"
  },
  "toc": {
   "base_numbering": 1,
   "nav_menu": {},
   "number_sections": true,
   "sideBar": true,
   "skip_h1_title": false,
   "title_cell": "Table of Contents",
   "title_sidebar": "Contents",
   "toc_cell": false,
   "toc_position": {},
   "toc_section_display": true,
   "toc_window_display": false
  },
  "varInspector": {
   "cols": {
    "lenName": 16,
    "lenType": 16,
    "lenVar": 40
   },
   "kernels_config": {
    "python": {
     "delete_cmd_postfix": "",
     "delete_cmd_prefix": "del ",
     "library": "var_list.py",
     "varRefreshCmd": "print(var_dic_list())"
    },
    "r": {
     "delete_cmd_postfix": ") ",
     "delete_cmd_prefix": "rm(",
     "library": "var_list.r",
     "varRefreshCmd": "cat(var_dic_list()) "
    }
   },
   "types_to_exclude": [
    "module",
    "function",
    "builtin_function_or_method",
    "instance",
    "_Feature"
   ],
   "window_display": false
  }
 },
 "nbformat": 4,
 "nbformat_minor": 2
}
